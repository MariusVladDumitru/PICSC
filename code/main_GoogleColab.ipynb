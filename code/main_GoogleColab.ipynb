{
 "nbformat": 4,
 "nbformat_minor": 0,
 "metadata": {
  "colab": {
   "provenance": []
  },
  "kernelspec": {
   "name": "python3",
   "display_name": "Python 3 (ipykernel)",
   "language": "python"
  },
  "language_info": {
   "name": "python"
  }
 },
 "cells": [
  {
   "metadata": {
    "jupyter": {
     "is_executing": true
    }
   },
   "cell_type": "code",
   "source": [
    "# Run this notebook in Goolge Colab in order to speed this up, because my local computer is not so powerful\n",
    "# Use this only in google colab, not on local setup\n",
    "# for Google colab environment:\n",
    "    # Make sure to have the dataset available in /content/drive/MyDrive/Projects/PICSC/dataset\n",
    "    # Make sure to have all the code available in /content/drive/MyDrive/Projects/PICSC/code"
   ],
   "outputs": [],
   "execution_count": null
  },
  {
   "metadata": {},
   "cell_type": "code",
   "source": [
    "# Mount google Drive\n",
    "from google.colab import drive\n",
    "drive.mount('/content/drive')"
   ],
   "outputs": [],
   "execution_count": null
  },
  {
   "metadata": {
    "ExecuteTime": {
     "end_time": "2025-01-09T23:12:25.984953Z",
     "start_time": "2025-01-09T23:12:25.976237Z"
    }
   },
   "cell_type": "code",
   "source": [
    "import importlib.util\n",
    "from os import system\n",
    "\n",
    "def is_package_available(package_name):\n",
    "    \"\"\"\n",
    "    Input:\n",
    "        package_name: string -> name of a package to be installed\n",
    "\n",
    "    Output:\n",
    "        True: package is available\n",
    "        False: package is not available\n",
    "    \"\"\"\n",
    "\n",
    "    spec = importlib.util.find_spec(package_name)\n",
    "    if spec is not None:\n",
    "        print(f\"'{package_name}' is available!.\")\n",
    "    else:\n",
    "        print(f\"'{package_name}' is NOT installed!\")\n",
    "        print(f'Installing {package_name}')\n",
    "        system(f\"pip install {package_name}\")"
   ],
   "outputs": [],
   "execution_count": 2
  },
  {
   "metadata": {
    "colab": {
     "base_uri": "https://localhost:8080/"
    },
    "id": "NxpGWQknNUHt",
    "outputId": "011abdaa-c048-40b2-803a-f9a9f6da7a1f",
    "ExecuteTime": {
     "end_time": "2025-01-09T23:13:10.393357Z",
     "start_time": "2025-01-09T23:13:10.378858Z"
    }
   },
   "cell_type": "code",
   "outputs": [
    {
     "name": "stdout",
     "output_type": "stream",
     "text": [
      "'scapy' is available!.\n"
     ]
    },
    {
     "data": {
      "text/plain": [
       "True"
      ]
     },
     "execution_count": 6,
     "metadata": {},
     "output_type": "execute_result"
    }
   ],
   "execution_count": 6,
   "source": [
    "# Is scapy available ?\n",
    "is_package_available(\"scapy\")\n"
   ]
  },
  {
   "metadata": {},
   "cell_type": "code",
   "outputs": [],
   "execution_count": null,
   "source": [
    "# run /content/drive/MyDrive/PICSC/code/main.py\n",
    "\n",
    "!python /content/drive/MyDrive/PICSC/code/main.py"
   ]
  },
  {
   "metadata": {
    "colab": {
     "base_uri": "https://localhost:8080/"
    },
    "id": "KvwQ4SH-OE0C",
    "outputId": "c5474541-dfa9-4705-a146-4c22e27f843c"
   },
   "cell_type": "code",
   "outputs": [
    {
     "name": "stdout",
     "output_type": "stream",
     "text": [
      "001_Human_vs_Bot.pcapng\n",
      "001_Human_vs_Bot.pcapng is done\n",
      "002_Human_vs_Bot.pcapng\n",
      "002_Human_vs_Bot.pcapng is done\n",
      "003_Human_vs_Human.pcapng\n",
      "003_Human_vs_Human.pcapng is done\n",
      "004_Human_vs_Human.pcapng\n",
      "004_Human_vs_Human.pcapng is done\n"
     ]
    }
   ],
   "execution_count": 9,
   "source": [
    "# run main.py -> the main script\n",
    "\n",
    "!python code/main.py"
   ]
  }
 ]
}
